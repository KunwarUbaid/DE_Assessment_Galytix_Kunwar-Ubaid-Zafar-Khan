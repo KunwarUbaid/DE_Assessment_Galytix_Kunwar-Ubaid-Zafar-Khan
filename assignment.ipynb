{
 "cells": [
  {
   "cell_type": "code",
   "execution_count": 7,
   "id": "a3f32432-eab4-44ea-b8ef-f02989e9f058",
   "metadata": {},
   "outputs": [],
   "source": [
    "import gensim\n",
    "from gensim.models import KeyedVectors\n",
    "import pandas as pd\n",
    "import numpy as np\n",
    "from sklearn.metrics.pairwise import cosine_similarity\n",
    "\n",
    "# Task 1: Downloading and saving the Word2Vec vectors\n",
    "# Replace 'location' with the path to the downloaded pretrained vectors\n",
    "location = r'D:\\GoogleNews-vectors-negative300.bin.gz'  # Update with your file path\n",
    "wv = KeyedVectors.load_word2vec_format(location, binary=True, limit=1000000)\n",
    "wv.save_word2vec_format('vectors.txt', binary=False)  # Saving as text file\n",
    "\n",
    "# Task 2: Load the processed word embeddings and phrases.csv\n",
    "word_vectors = KeyedVectors.load_word2vec_format('vectors.txt', binary=False)\n",
    "\n",
    "phrases_df = pd.read_csv(r'D:\\phrases.csv', encoding='latin1')\n",
    "#Task 3: Making functions\n",
    "# Function to calculate phrase vector as the normalized sum of word vectors\n",
    "def phrase_vector(phrase):\n",
    "    words = phrase.split()\n",
    "    vector_sum = np.zeros((word_vectors.vector_size,), dtype=\"float32\")\n",
    "    word_count = 0\n",
    "    for word in words:\n",
    "        if word in word_vectors:\n",
    "            vector_sum = np.add(vector_sum, word_vectors[word])\n",
    "            word_count += 1\n",
    "    if word_count == 0:\n",
    "        return None\n",
    "    return vector_sum / word_count\n",
    "\n",
    "# Calculate similarity between phrases\n",
    "def calculate_similarity(phrase1, phrase2):\n",
    "    vec1 = phrase_vector(phrase1)\n",
    "    vec2 = phrase_vector(phrase2)\n",
    "    if vec1 is None or vec2 is None:\n",
    "        return None\n",
    "    return cosine_similarity(vec1.reshape(1, -1), vec2.reshape(1, -1))\n",
    "\n",
    "# Calculate similarity of phrases in phrases.csv with each other\n",
    "similarities = []\n",
    "for idx, row in phrases_df.iterrows():\n",
    "    phrase = row['Phrases']\n",
    "    for inner_idx, inner_row in phrases_df.iterrows():\n",
    "        inner_phrase = inner_row['Phrases']\n",
    "        similarity = calculate_similarity(phrase, inner_phrase)\n",
    "        similarities.append({\n",
    "            'Phrase 1': phrase,\n",
    "            'Phrase 2': inner_phrase,\n",
    "            'Similarity': similarity[0][0] if similarity is not None else None\n",
    "        })\n",
    "\n",
    "# Convert similarities to DataFrame\n",
    "similarities_df = pd.DataFrame(similarities)\n",
    "\n",
    "\n"
   ]
  },
  {
   "cell_type": "code",
   "execution_count": 6,
   "id": "3f769571-55de-431d-96f2-2fbfbae70ada",
   "metadata": {},
   "outputs": [
    {
     "name": "stdin",
     "output_type": "stream",
     "text": [
      "Enter your text here Insurance\n"
     ]
    },
    {
     "name": "stdout",
     "output_type": "stream",
     "text": [
      "Closest phrase: Insurance premiums market in Country\n",
      "Similarity: [[0.7475684]]\n"
     ]
    }
   ],
   "source": [
    "\n",
    "# Function to find closest match to a given string\n",
    "\n",
    "def closest_match(input_phrase):\n",
    "    max_similarity = -1\n",
    "    closest_phrase = None\n",
    "    for idx, row in phrases_df.iterrows():\n",
    "        phrase = row['Phrases']\n",
    "        similarity = calculate_similarity(input_phrase, phrase)\n",
    "        if similarity is not None and similarity > max_similarity:\n",
    "            max_similarity = similarity\n",
    "            closest_phrase = phrase\n",
    "    return closest_phrase, max_similarity\n",
    "# Example usage:\n",
    "input_phrase = input(\"Enter your text here\")\n",
    "closest, similarity = closest_match(input_phrase)\n",
    "print(f\"Closest phrase: {closest}\\nSimilarity: {similarity}\")"
   ]
  },
  {
   "cell_type": "code",
   "execution_count": null,
   "id": "0827001c-9b71-427a-8c2c-13f73efcbcbe",
   "metadata": {},
   "outputs": [],
   "source": []
  }
 ],
 "metadata": {
  "kernelspec": {
   "display_name": "Python 3 (ipykernel)",
   "language": "python",
   "name": "python3"
  },
  "language_info": {
   "codemirror_mode": {
    "name": "ipython",
    "version": 3
   },
   "file_extension": ".py",
   "mimetype": "text/x-python",
   "name": "python",
   "nbconvert_exporter": "python",
   "pygments_lexer": "ipython3",
   "version": "3.10.5"
  }
 },
 "nbformat": 4,
 "nbformat_minor": 5
}
